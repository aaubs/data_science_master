{
  "nbformat": 4,
  "nbformat_minor": 0,
  "metadata": {
    "colab": {
      "provenance": [],
      "authorship_tag": "ABX9TyMh5qsUHAtJ+Q0xrqoOLvc5",
      "include_colab_link": true
    },
    "kernelspec": {
      "name": "python3",
      "display_name": "Python 3"
    },
    "language_info": {
      "name": "python"
    }
  },
  "cells": [
    {
      "cell_type": "markdown",
      "metadata": {
        "id": "view-in-github",
        "colab_type": "text"
      },
      "source": [
        "<a href=\"https://colab.research.google.com/github/aaubs/ds-master/blob/main/notebooks/M3_LSTM_Tutorial_v3_Solution.ipynb\" target=\"_parent\"><img src=\"https://colab.research.google.com/assets/colab-badge.svg\" alt=\"Open In Colab\"/></a>"
      ]
    },
    {
      "cell_type": "markdown",
      "source": [
        "# The objective of this tutorial\n",
        "\n",
        "Our goal in this tutorial is to provide simple examples of the LSTM model so that you can better understand its functionality and how it can be used in a domain.\n",
        "\n",
        "After completing this tutorial, you will know:\n",
        "\n",
        "\n",
        "```\n",
        "1. What is an LSTM (Long Short-Term Memory) network?\n",
        "\n",
        "2. How do LSTMs work, and how does their structure compare to that of traditional RNNs?\n",
        "\n",
        "3. What are the purposes and benefits of using LSTMs for tasks such as sequence generation?\n",
        "\n",
        "4. How to implement an LSTM in PyTorch code?\n",
        "\n",
        "5. How to train an LSTM for a specific task?\n",
        "\n",
        "6. What are some common challenges and pitfalls to avoid when working with LSTMs?\n",
        "\n",
        "7. What are the differences between various types of RNNs, including RNNs and LSTMs?\n",
        "```\n",
        "\n",
        "\n"
      ],
      "metadata": {
        "id": "xBV3GHdBthUg"
      }
    },
    {
      "cell_type": "markdown",
      "source": [
        "#Long Short-Term Memory (LSTM) with PyTorch"
      ],
      "metadata": {
        "id": "XXRKHLikFB2O"
      }
    },
    {
      "cell_type": "markdown",
      "source": [
        "LSTMs are a type of RNN, so you will gain a better understanding of LSTMs by understanding RNN concepts.\n"
      ],
      "metadata": {
        "id": "AvcOJEjJJOor"
      }
    },
    {
      "cell_type": "markdown",
      "source": [
        "## A quick recap on RNNs"
      ],
      "metadata": {
        "id": "k1Qw79kqJnVm"
      }
    },
    {
      "cell_type": "markdown",
      "source": [
        "By processing inputs sequentially, RNNs calculate outputs by considering the context of previous inputs. As a result, the neural network can carry information over different time steps rather than keeping each input as an independent variable.\n",
        "\n",
        "Due to the problem of vanishing/exploding gradients, RNNs are unable to work with longer sequences and hold on to long-term dependencies.\n"
      ],
      "metadata": {
        "id": "YUBzGA2kLacs"
      }
    },
    {
      "cell_type": "markdown",
      "source": [
        "<img src=\"https://raw.githubusercontent.com/aaubs/ds-master/main/data/Images/RNN_Vanishing_Exploding.png\" width=\"700\">"
      ],
      "metadata": {
        "id": "mhPjiMzlA5d6"
      }
    },
    {
      "cell_type": "markdown",
      "source": [
        "#### Exploding gradient problem\n",
        "```\n",
        "- The gradients will be exploded if the gradient formula is deep (large T−t) and a single or multiple gradient values becoming\n",
        "very high (if Wh2h > 1).\n",
        "\n",
        "- This is less concerning than vanishing gradient problem because it can be easily solved by clipping the gradients\n",
        "at a predefined threshold value.\n",
        "```"
      ],
      "metadata": {
        "id": "z5qpz3dgAkAi"
      }
    },
    {
      "cell_type": "markdown",
      "source": [
        "#### Vanishing gradient problem\n",
        "```\n",
        "- The gradients will be vanished if the gradient formula is deep (large T−t) and a single or multiple gradient values\n",
        "becoming very low (if -1 < Wh2h < 1).\n",
        "- Calculating the error after several time step with respect to the first one, there will be a long dependency.\n",
        "- If any one of the gradients approached 0, all the gradient would rush to zero exponentially fast\n",
        "due to the multiplication of chain rule.\n",
        "- This state would no longer help the network to learn anything which is known as vanishing gradient problem.\n",
        "```\n",
        "> Below is the effects of applying a sigmoid function over and over again, it became very flattened with no detectable slope where its gradient become close to 0."
      ],
      "metadata": {
        "id": "pbR3aYktJHNG"
      }
    },
    {
      "cell_type": "markdown",
      "source": [
        "<img src=\"https://raw.githubusercontent.com/aaubs/ds-master/main/data/Images/RNN_Vanishing.png\" width=\"300\">\n",
        "\n"
      ],
      "metadata": {
        "id": "K1ZJjHH9DMzD"
      }
    },
    {
      "cell_type": "markdown",
      "source": [
        "Due to these issues, RNNs are unable to work with longer sequences and hold on to long-term dependencies, making them suffer from “short-term memory”."
      ],
      "metadata": {
        "id": "ytz3E68POBzG"
      }
    },
    {
      "cell_type": "markdown",
      "source": [
        "This problem can be solved in 3 ways:.\n",
        "```\n",
        "- Activation Function (ReLU instead of Tanh)\n",
        "- Weights initialization\n",
        "- Changing Network Architecture\n",
        "```\n",
        "\n",
        "This section will focus on the 3rd solution that is changing the network architecture. In this solution, you modify the architecture of RNNs and use the more complex recurrent unit with Gates such as LSTMs or GRUs (Gated Recurrent Units)."
      ],
      "metadata": {
        "id": "PKqUqyFdHnsr"
      }
    },
    {
      "cell_type": "markdown",
      "source": [
        "## LSTM: How does it help?"
      ],
      "metadata": {
        "id": "usClmn2VXlc3"
      }
    },
    {
      "cell_type": "markdown",
      "source": [
        "LSTMs are a special type of Neural Networks that perform similarly to Recurrent Neural Networks, but run better than RNNs, and further solve some of the important shortcomings of RNNs for long term dependencies, and vanishing gradients."
      ],
      "metadata": {
        "id": "fOxP53x3Issr"
      }
    },
    {
      "cell_type": "markdown",
      "source": [
        "<img src=\"https://raw.githubusercontent.com/aaubs/ds-master/main/data/Images/RNN-LSTM.png\" width=\"700\">\n",
        "\n"
      ],
      "metadata": {
        "id": "ejoDpnPgKMz8"
      }
    },
    {
      "cell_type": "markdown",
      "source": [
        "### Long-term Memory"
      ],
      "metadata": {
        "id": "s6rnF_G-NqO8"
      }
    },
    {
      "cell_type": "markdown",
      "source": [
        "The key building blocks behind LSTM are a cell state known as Long-term Memory and three different types of gates. Information is added or removed through these gates. Let's check these structuers:"
      ],
      "metadata": {
        "id": "MFGHP35jNzC4"
      }
    },
    {
      "cell_type": "markdown",
      "source": [
        "<img src=\"https://raw.githubusercontent.com/aaubs/ds-master/main/data/Images/LSTM_Gates.png\" width=\"700\">\n",
        "\n",
        "> Cell state is a memory of the LSTM cell and hidden state (cell output) is an output of this cell. Cells do have internal cell state, often abbreviated as “c”, and cells output is what is called a “hidden state”, abbreviated as “h”. Regular RNNs have just the hidden state and no cell state.\n"
      ],
      "metadata": {
        "id": "HG01h_rHR6XD"
      }
    },
    {
      "cell_type": "markdown",
      "source": [
        "These gates are called the Input Gate, the Forget Gate, and the Output Gate. There are many variants to the names of these gates; nevertheless, the calculations and workings of these gates are mostly the same."
      ],
      "metadata": {
        "id": "zsFkqkvraF0D"
      }
    },
    {
      "cell_type": "markdown",
      "source": [
        "> Forget Gate: The forget gate decides which information from the long-term memory should be kept or discarded.\n",
        "\n",
        "> Input Gate: The input gate decides what new information will be stored in the long-term memory. It only works with the information from the current input and the short-term memory from the previous time step. Therefore, it has to filter out the information from these variables that are not useful.\n",
        "\n",
        "> Output Gate: The output gate will take the current input, the previous short-term memory, and the newly computed long-term memory to produce the new short-term memory/hidden state which will be passed on to the cell in the next time step. The output of the current time step can also be drawn from this hidden state."
      ],
      "metadata": {
        "id": "_RcuKlv1cHH5"
      }
    },
    {
      "cell_type": "markdown",
      "source": [
        "### How does a Gate work in LSTM?\n",
        "\n",
        "A gate consists of a neural net layer, like a sigmoid, and a pointwise multiplication shown in red in the figure above.\n",
        "\n",
        "<img src=\"https://raw.githubusercontent.com/aaubs/ds-master/main/data/Images/Sigmoid_pointwise-multiplication.jpeg\" width=\"200\">\n",
        "\n",
        "> Sigmoid is forcing the input between 0 and 1, which determines how much information is captured when passed through the gate, and how much is retained when it passes through the gate. For example, 0 means no information is retained, and 1 means all information is retained.\n",
        "\n",
        "<img src=\"https://raw.githubusercontent.com/aaubs/ds-master/main/data/Images/LSTM_cellstate.png\" width=\"500\">\n",
        "\n",
        "> Pointwise multiplication in an LSTM is used to control the flow of information through the network by element-wise multiplying matrices, For instance, the output of the forget gate after applying the sigmoid function is a matrix of values between 0 and 1. When we perform pointwise multiplication of this matrix with the cell state from the previous time step, it determines how much of the past information to retain or forget. A value close to 0 means that the corresponding value in the cell state is mostly forgotten, while a value close to 1 means it is mostly retained.\n",
        "\n",
        "> Tanh: Unlike the sigmoid function, which outputs values in the range [0,1][0,1], the tanh function is zero-centered, meaning its output ranges from -1 to 1. This ensures that the values within the LSTM cell, specifically the cell state and the hidden state, remain bounded. Bounded values help in preventing the gradients from exploding during backpropagation, which is a common problem in training deep neural networks. The zero-centered property can lead to more efficient learning and faster convergence during training, as it prevents the gradients from always being positive or always being negative, which can cause issues like the vanishing gradient problem"
      ],
      "metadata": {
        "id": "8RuUMQ3WezoZ"
      }
    },
    {
      "cell_type": "markdown",
      "source": [
        "Long story short:\n",
        "\n",
        "> - **Sigmoid:** Decide which information is relevant.\n",
        "- **Pointwise Multiplication:** Applied to execute the selection process.\n",
        "- **Tanh:** Preventing the exploding gradient problem during training by ensuring values and gradients remain within a certain range.\n",
        "\n",
        "In summary:\n",
        "\n",
        "> - **Forget Gate:** Decides what information from the cell state should be thrown away or kept.\n",
        "- **Input Gate:** Updates the cell state with new information.\n",
        "- **Output Gate:** Decides the next hidden state."
      ],
      "metadata": {
        "id": "hqmXkjBI0K8g"
      }
    },
    {
      "cell_type": "markdown",
      "source": [
        "###Structure of LSTM"
      ],
      "metadata": {
        "id": "glkpeyRehC9x"
      }
    },
    {
      "cell_type": "markdown",
      "source": [
        "Now, let’s dig deeper to understand what is happening under the hood. LSTM consists of five different parts:\n",
        "1. Linear part (Parameters: This includes the weights and biases of the input-to-hidden layer, the hidden-to-hidden layer, and the hidden-to-output layer.)\n",
        "> *The hidden state and cell state are used to capture the information from the previous time steps, but this information is not relevant after the training process is finished. Therefore, resetting the hidden and cell state parameters to zero ensures that the network starts with a clean slate for making predictions on new, unseen data.*\n",
        "\n",
        "2. The hidden state (also known as the Short-term Memory)\n",
        "> *you can think of the hidden state as representing the \"short term or working memory\" of the network, which is updated at each time step and used to produce the output.*\n",
        "\n",
        "3. The cell state (also known as the Long-term Memory)\n",
        "> *you can think of the hidden state as representing the \"long term or working memory\" of the network, which is updated at each time step and used to produce the output.*\n",
        "\n",
        "4. Non-Linear part (Activation Function (Tanh and Sigmoid))\n",
        "> As you can see in the equation above, you feed in both input vector Xt and the previous state ht-1 into the function. Here you’ll have 8 separate weight matrices then apply the Non-linearity (tanh and sigmoid) to the sum of input Xt, previous hidden state ht-1, and cell state ct-1 after multiplication to these weight matrices.\n",
        "\n",
        "<img src=\"https://raw.githubusercontent.com/aaubs/ds-master/main/data/Images/LSTM_cellstate.png\" width=\"500\">\n",
        "\n",
        "\n",
        "<img src=\"https://raw.githubusercontent.com/aaubs/ds-master/main/data/Images/LSTM_formula.png\" width=\"800\">\n",
        "\n",
        "\n",
        "5. Fully connected part (Output Layer): Finally, you’ll have the output vector ŷt at the timestamp t.\n",
        "> <img src=\"https://raw.githubusercontent.com/aaubs/ds-master/main/data/Images/sequence-3.png\" width=\"150\">\n"
      ],
      "metadata": {
        "id": "gLKx-_FgqVPf"
      }
    },
    {
      "cell_type": "markdown",
      "source": [
        "## LSTM code implementation\n",
        "\n",
        "Let's get started with Data Preparation for the LSTM  implementation!"
      ],
      "metadata": {
        "id": "chEUSYNosPxr"
      }
    },
    {
      "cell_type": "code",
      "source": [
        "# import required libraries\n",
        "import torch\n",
        "import pandas as pd\n",
        "import torch.nn as nn\n",
        "import torch.optim as optim\n",
        "import numpy as np\n",
        "from torch.utils.data import DataLoader, TensorDataset\n",
        "from sklearn import preprocessing\n",
        "import matplotlib.pyplot as plt\n",
        "from tqdm import tqdm\n",
        "from sklearn.preprocessing import MinMaxScaler"
      ],
      "metadata": {
        "id": "TghxPGJ85O07"
      },
      "execution_count": null,
      "outputs": []
    },
    {
      "cell_type": "markdown",
      "source": [
        "### Data Preparation"
      ],
      "metadata": {
        "id": "kse8ygK06B1a"
      }
    },
    {
      "cell_type": "markdown",
      "source": [
        "To understand how should we prepare the data for LSTM, we’ll use a simple dataset as a Timeseries Forecasting example. Below is the full sequence of values and their restructuring as a training and testing dataset.\n",
        "\n",
        "<img src=\"https://raw.githubusercontent.com/aaubs/ds-master/main/data/Images/SequenceDataPerparation.webp\" width=\"400\">\n",
        "\n",
        "Now, let’s separate the datasets into batches!\n",
        "\n",
        "<img src=\"https://raw.githubusercontent.com/aaubs/ds-master/main/data/Images/Seq_DataPerparation_2.webp\" width=\"100\">"
      ],
      "metadata": {
        "id": "l3KQo2ko5S3N"
      }
    },
    {
      "cell_type": "code",
      "source": [
        "# Step 1: Load and Preprocess Data\n",
        "df_array = pd.DataFrame(np.array([10, 20, 30, 40, 50, 60, 70, 80, 90]))"
      ],
      "metadata": {
        "id": "5qSxuowB4zPc"
      },
      "execution_count": null,
      "outputs": []
    },
    {
      "cell_type": "code",
      "source": [
        "# Step 2: Feature engineering\n"
      ],
      "metadata": {
        "id": "l29zocC1nd7z"
      },
      "execution_count": null,
      "outputs": []
    },
    {
      "cell_type": "code",
      "source": [
        "# Step 3: Normalize the Data\n",
        "scaler = MinMaxScaler()\n",
        "data_scaled = scaler.fit_transform(df_array)"
      ],
      "metadata": {
        "id": "AMmQI1Zanf-Y"
      },
      "execution_count": null,
      "outputs": []
    },
    {
      "cell_type": "code",
      "source": [
        "# Step 4: Split Data into Training and Testing Sets\n",
        "train_size = int(len(data_scaled) * 0.8)\n",
        "train_data = data_scaled[:train_size]\n",
        "test_data = data_scaled[train_size:]\n",
        "\n",
        "# Further split the training data into training and validation sets\n",
        "train_valid_size = int(len(train_data) * 0.8)\n",
        "train_data_final = train_data[:train_valid_size]\n",
        "valid_data = train_data[train_valid_size:]\n",
        "\n",
        "# Step 5: Prepare Data for RNN Input\n",
        "def create_sequences_multivariate(data, n_timesteps, target_column_index):\n",
        "    X = []\n",
        "    y = []\n",
        "    for i in range(len(data) - n_timesteps):\n",
        "        seq_x = data[i:i + n_timesteps]\n",
        "        seq_y = data[i + n_timesteps, target_column_index]\n",
        "        X.append(seq_x)\n",
        "        y.append(seq_y)\n",
        "    return np.array(X), np.array(y)\n",
        "\n",
        "n_timesteps = 1\n",
        "n_features = data_scaled.shape[1]\n",
        "target_column_index = 0  # 'Close' is the target column\n",
        "\n",
        "# Create sequences for training, validation, and testing\n",
        "X_train, y_train = create_sequences_multivariate(train_data_final, n_timesteps, target_column_index)\n",
        "X_valid, y_valid = create_sequences_multivariate(valid_data, n_timesteps, target_column_index)\n",
        "X_test, y_test = create_sequences_multivariate(test_data, n_timesteps, target_column_index)\n",
        "\n",
        "# Convert to tensors\n",
        "X_train = torch.tensor(X_train, dtype=torch.float32)\n",
        "y_train = torch.tensor(y_train, dtype=torch.float32)\n",
        "\n",
        "X_valid = torch.tensor(X_valid, dtype=torch.float32)\n",
        "y_valid = torch.tensor(y_valid, dtype=torch.float32)\n",
        "\n",
        "X_test = torch.tensor(X_test, dtype=torch.float32)\n",
        "y_test = torch.tensor(y_test, dtype=torch.float32)"
      ],
      "metadata": {
        "id": "iU3EhMGMniOl"
      },
      "execution_count": null,
      "outputs": []
    },
    {
      "cell_type": "markdown",
      "source": [
        "Implementing code for LSTM and RNN requires sequential data preparation. The data preparation process for these models is visualized here!\n",
        "\n",
        "\n",
        "<img src=\"https://raw.githubusercontent.com/aaubs/ds-master/main/data/Images/sequence.gif\" width=\"600\">\n"
      ],
      "metadata": {
        "id": "ot0lYrMKzpVL"
      }
    },
    {
      "cell_type": "code",
      "source": [
        "# Create DataLoaders\n",
        "train_dataset = TensorDataset(X_train, y_train)\n",
        "valid_dataset = TensorDataset(X_valid, y_valid)\n",
        "test_dataset = TensorDataset(X_test, y_test)\n",
        "\n",
        "train_loader = DataLoader(train_dataset, batch_size=1, shuffle=False)\n",
        "valid_loader = DataLoader(valid_dataset, batch_size=1, shuffle=False)\n",
        "test_loader = DataLoader(test_dataset, batch_size=1, shuffle=False)"
      ],
      "metadata": {
        "id": "yUSnLJXahUSY"
      },
      "execution_count": null,
      "outputs": []
    },
    {
      "cell_type": "markdown",
      "source": [
        "We then have to prepare the dataset. We need the data as Pytorch tensors so that we can use that in our model which we will make. We use the dataloader so that we can extract the data in batches. This is especially helpful for large datasets.\n",
        "\n",
        "<img src=\"https://raw.githubusercontent.com/aaubs/ds-master/main/data/Images/TensorDataset.webp\" width=\"600\">\n",
        "\n"
      ],
      "metadata": {
        "id": "wMQQtwD2-h6Y"
      }
    },
    {
      "cell_type": "markdown",
      "source": [
        "### Training LSTM"
      ],
      "metadata": {
        "id": "eCgS1qv8Dyl2"
      }
    },
    {
      "cell_type": "markdown",
      "source": [
        "In order to create a LSTM, we follow the same steps as for implementing an ANN!\n",
        "\n",
        "\n",
        "```\n",
        "- Creating a Neural Network\n",
        "- Network Evaluation\n",
        "- Gradient Calculation\n",
        "- Back Propagation\n",
        "- Training\n",
        "```\n",
        "\n",
        "\n"
      ],
      "metadata": {
        "id": "0X61vU18CVOC"
      }
    },
    {
      "cell_type": "markdown",
      "source": [
        "<img src=\"https://raw.githubusercontent.com/aaubs/ds-master/main/data/Images/LSTM_dynamic.gif\" width=\"600\">"
      ],
      "metadata": {
        "id": "Hrt2n20_DiV_"
      }
    },
    {
      "cell_type": "code",
      "source": [
        "# Step 6: Build the LSTM Model\n",
        "# 1. Creating a FeedForwardNetwork\n",
        "# 1.1 Structure (Architecture) of NN\n",
        "class LSTMModel(nn.Module):\n",
        "    def __init__(self, input_size, hidden_size=50, num_layers=2, output_size=1, dropout=0.2):\n",
        "        super(LSTMModel, self).__init__()\n",
        "        self.hidden_size = hidden_size\n",
        "        self.num_layers = num_layers\n",
        "\n",
        "        self.lstm = nn.LSTM(input_size, hidden_size, num_layers,\n",
        "                            batch_first=True, dropout=dropout)\n",
        "        self.fc = nn.Linear(hidden_size, output_size)\n",
        "\n",
        "    def forward(self, x):\n",
        "        h0 = torch.zeros(self.num_layers, x.size(0), self.hidden_size).to(x.device)\n",
        "        c0 = torch.zeros(self.num_layers, x.size(0), self.hidden_size).to(x.device)\n",
        "\n",
        "        out, (hn, cn) = self.lstm(x, (h0, c0))\n",
        "        out = out[:, -1, :]  # Last time step\n",
        "        out = self.fc(out)\n",
        "        return out\n",
        "\n",
        "\n",
        "# Instantiate the LSTM model\n",
        "model = LSTMModel(input_size=n_features, hidden_size=50, num_layers=1, output_size=1, dropout=0.2)\n",
        "\n",
        "# Define loss function and optimizer\n",
        "# 1.2 Loss Function\n",
        "criterion = nn.MSELoss()\n",
        "\n",
        "# 1.3 Optmization Approch\n",
        "optimizer = optim.Adam(model.parameters(), lr=0.001)\n",
        "\n",
        "# Step 7: Train the Model\n",
        "device = torch.device('cuda' if torch.cuda.is_available() else 'cpu')\n",
        "model.to(device)\n",
        "\n",
        "num_epochs = 20\n",
        "train_losses = []\n",
        "valid_losses = []\n",
        "\n",
        "for epoch in range(num_epochs):\n",
        "    model.train()\n",
        "    train_loss = 0\n",
        "    for inputs, targets in train_loader:\n",
        "        inputs = inputs.to(device)\n",
        "        targets = targets.to(device)\n",
        "\n",
        "        optimizer.zero_grad()\n",
        "        # 2. Forward Pass\n",
        "        outputs = model(inputs)\n",
        "        # 3. FeedForward Evaluation\n",
        "        loss = criterion(outputs.squeeze(), targets)\n",
        "        # 4. Backward Pass / Gradient Calculation\n",
        "        loss.backward()\n",
        "        # 5. Back Propagation / Update Weights\n",
        "        optimizer.step()\n",
        "\n",
        "        train_loss += loss.item() * inputs.size(0)\n",
        "\n",
        "    train_loss /= len(train_loader.dataset)\n",
        "    train_losses.append(train_loss)\n",
        "\n",
        "    # Validation\n",
        "    model.eval()\n",
        "    valid_loss = 0\n",
        "    with torch.no_grad():\n",
        "        for inputs, targets in valid_loader:\n",
        "            inputs = inputs.to(device)\n",
        "            targets = targets.to(device)\n",
        "            outputs = model(inputs)\n",
        "            loss = criterion(outputs.squeeze(), targets)\n",
        "            valid_loss += loss.item() * inputs.size(0)\n",
        "    valid_loss /= len(valid_loader.dataset)\n",
        "    valid_losses.append(valid_loss)\n",
        "\n",
        "    if (epoch + 1) % 2 == 0:\n",
        "        print(f'Epoch {epoch + 1}/{num_epochs}, Train Loss: {train_loss:.6f}, Valid Loss: {valid_loss:.6f}')\n",
        "\n",
        "# Step 8: Evaluate the Model\n",
        "model.eval()\n",
        "with torch.no_grad(): # this way prevents PyTorch from storing unnecessary information for backpropagation, making inference faster and more memory-efficient.\n",
        "    test_preds = model(X_test.to(device)).cpu().numpy()\n",
        "    test_actuals = y_test.numpy()\n",
        "\n",
        "# # Step 9: Denormalize and Visualize Predictions\n",
        "# def denormalize(scaled_data, scaler, index):\n",
        "#     data = np.zeros((len(scaled_data), scaler.n_features_in_))\n",
        "#     data[:, index] = scaled_data[:, 0]\n",
        "#     data = scaler.inverse_transform(data)\n",
        "#     return data[:, index]\n",
        "\n",
        "# test_preds_denorm = denormalize(test_preds, scaler, target_column_index)\n",
        "# test_actuals_denorm = denormalize(test_actuals.reshape(-1, 1), scaler, target_column_index)\n",
        "\n",
        "# plt.figure(figsize=(12, 6))\n",
        "# plt.plot(test_actuals_denorm, label='Actual')\n",
        "# plt.plot(test_preds_denorm, label='Predicted')\n",
        "# plt.title('LSTM Predictions vs Actuals on Test Set')\n",
        "# plt.xlabel('Index')\n",
        "# plt.ylabel('TSLA Close Price')\n",
        "# plt.legend()\n",
        "# plt.show()\n",
        "\n",
        "# # Step 10: Save and Load the Model\n",
        "# torch.save(model.state_dict(), 'tsla_lstm_model.pth')\n",
        "\n",
        "# loaded_model = LSTMModel(input_size=n_features, hidden_size=50, num_layers=2, output_size=1)\n",
        "# loaded_model.load_state_dict(torch.load('tsla_lstm_model.pth'))\n",
        "# loaded_model.to(device)\n",
        "# loaded_model.eval()"
      ],
      "metadata": {
        "colab": {
          "base_uri": "https://localhost:8080/"
        },
        "id": "YUpS5MkBIZut",
        "outputId": "2a0b03ba-8347-4518-dc0c-685faca8e2c0"
      },
      "execution_count": null,
      "outputs": [
        {
          "output_type": "stream",
          "name": "stderr",
          "text": [
            "/usr/local/lib/python3.10/dist-packages/torch/nn/modules/rnn.py:123: UserWarning: dropout option adds dropout after all but last recurrent layer, so non-zero dropout expects num_layers greater than 1, but got dropout=0.2 and num_layers=1\n",
            "  warnings.warn(\n"
          ]
        },
        {
          "output_type": "stream",
          "name": "stdout",
          "text": [
            "Epoch 2/20, Train Loss: 0.163560, Valid Loss: 0.639647\n",
            "Epoch 4/20, Train Loss: 0.140467, Valid Loss: 0.586044\n",
            "Epoch 6/20, Train Loss: 0.118431, Valid Loss: 0.531838\n",
            "Epoch 8/20, Train Loss: 0.097438, Valid Loss: 0.476740\n",
            "Epoch 10/20, Train Loss: 0.077723, Valid Loss: 0.421032\n",
            "Epoch 12/20, Train Loss: 0.059793, Valid Loss: 0.365747\n",
            "Epoch 14/20, Train Loss: 0.044333, Valid Loss: 0.312599\n",
            "Epoch 16/20, Train Loss: 0.031997, Valid Loss: 0.263714\n",
            "Epoch 18/20, Train Loss: 0.023151, Valid Loss: 0.221195\n",
            "Epoch 20/20, Train Loss: 0.017655, Valid Loss: 0.186592\n"
          ]
        }
      ]
    },
    {
      "cell_type": "code",
      "source": [
        "# Combine the parameters of the LSTM layer and linear layer\n",
        "params = list(model.parameters())\n",
        "\n",
        "# Print the number of parameters\n",
        "print(\"Number of parameters:\", sum(p.numel() for p in params))\n",
        "\n",
        "# Print the shapes of the parameters\n",
        "for name, param in model.named_parameters():\n",
        "    print(\"Name: \", name)\n",
        "    print(\"shape: \", param.shape)\n",
        "    print(\"Weight: \", param.data)"
      ],
      "metadata": {
        "colab": {
          "base_uri": "https://localhost:8080/"
        },
        "id": "1jyjApvHVkcO",
        "outputId": "22e692d3-f0fd-4365-e248-3858050831ea"
      },
      "execution_count": null,
      "outputs": [
        {
          "output_type": "stream",
          "name": "stdout",
          "text": [
            "Number of parameters: 10651\n",
            "Name:  lstm.weight_ih_l0\n",
            "shape:  torch.Size([200, 1])\n",
            "Weight:  tensor([[-0.0729],\n",
            "        [ 0.0950],\n",
            "        [ 0.1730],\n",
            "        [ 0.1545],\n",
            "        [ 0.1045],\n",
            "        [-0.0476],\n",
            "        [ 0.0742],\n",
            "        [-0.0449],\n",
            "        [ 0.1630],\n",
            "        [ 0.0177],\n",
            "        [-0.0896],\n",
            "        [ 0.0558],\n",
            "        [ 0.0057],\n",
            "        [ 0.0970],\n",
            "        [ 0.0806],\n",
            "        [ 0.1342],\n",
            "        [-0.0083],\n",
            "        [ 0.1617],\n",
            "        [ 0.0313],\n",
            "        [ 0.1270],\n",
            "        [ 0.0345],\n",
            "        [ 0.0932],\n",
            "        [ 0.0727],\n",
            "        [ 0.1996],\n",
            "        [-0.0620],\n",
            "        [ 0.1272],\n",
            "        [-0.0092],\n",
            "        [ 0.0463],\n",
            "        [ 0.0199],\n",
            "        [ 0.0640],\n",
            "        [ 0.1369],\n",
            "        [-0.0233],\n",
            "        [ 0.0360],\n",
            "        [ 0.1988],\n",
            "        [ 0.0030],\n",
            "        [-0.0511],\n",
            "        [-0.0458],\n",
            "        [ 0.0288],\n",
            "        [ 0.0647],\n",
            "        [ 0.0451],\n",
            "        [ 0.0685],\n",
            "        [-0.0746],\n",
            "        [ 0.1329],\n",
            "        [-0.0692],\n",
            "        [ 0.1018],\n",
            "        [ 0.1929],\n",
            "        [-0.0121],\n",
            "        [-0.0047],\n",
            "        [-0.1384],\n",
            "        [-0.0184],\n",
            "        [ 0.1206],\n",
            "        [-0.0900],\n",
            "        [ 0.0447],\n",
            "        [-0.0652],\n",
            "        [ 0.0624],\n",
            "        [ 0.1277],\n",
            "        [-0.0619],\n",
            "        [-0.0588],\n",
            "        [-0.0736],\n",
            "        [ 0.0377],\n",
            "        [-0.0690],\n",
            "        [-0.0469],\n",
            "        [-0.0365],\n",
            "        [ 0.0645],\n",
            "        [-0.0492],\n",
            "        [ 0.0449],\n",
            "        [ 0.0376],\n",
            "        [ 0.1188],\n",
            "        [ 0.1150],\n",
            "        [ 0.0325],\n",
            "        [-0.0549],\n",
            "        [-0.0730],\n",
            "        [ 0.1395],\n",
            "        [ 0.0095],\n",
            "        [ 0.0032],\n",
            "        [ 0.0778],\n",
            "        [-0.0039],\n",
            "        [-0.0460],\n",
            "        [ 0.0557],\n",
            "        [-0.0388],\n",
            "        [ 0.1219],\n",
            "        [ 0.1046],\n",
            "        [ 0.0519],\n",
            "        [ 0.1209],\n",
            "        [ 0.0620],\n",
            "        [-0.0757],\n",
            "        [ 0.1059],\n",
            "        [ 0.0879],\n",
            "        [ 0.0440],\n",
            "        [-0.1312],\n",
            "        [-0.0908],\n",
            "        [-0.0640],\n",
            "        [-0.0763],\n",
            "        [ 0.0908],\n",
            "        [ 0.0430],\n",
            "        [ 0.0736],\n",
            "        [-0.1044],\n",
            "        [ 0.0961],\n",
            "        [ 0.0518],\n",
            "        [ 0.1290],\n",
            "        [-0.1957],\n",
            "        [-0.0137],\n",
            "        [-0.0339],\n",
            "        [ 0.0449],\n",
            "        [-0.0141],\n",
            "        [-0.0055],\n",
            "        [-0.1407],\n",
            "        [ 0.0765],\n",
            "        [ 0.0281],\n",
            "        [-0.1679],\n",
            "        [ 0.1225],\n",
            "        [-0.0848],\n",
            "        [ 0.1691],\n",
            "        [ 0.0864],\n",
            "        [-0.0553],\n",
            "        [ 0.0864],\n",
            "        [-0.0404],\n",
            "        [ 0.0070],\n",
            "        [ 0.0344],\n",
            "        [-0.0473],\n",
            "        [ 0.1032],\n",
            "        [-0.1449],\n",
            "        [-0.0740],\n",
            "        [ 0.1574],\n",
            "        [-0.0953],\n",
            "        [-0.1483],\n",
            "        [ 0.1055],\n",
            "        [ 0.1168],\n",
            "        [ 0.1541],\n",
            "        [-0.1478],\n",
            "        [-0.0468],\n",
            "        [-0.0836],\n",
            "        [-0.1662],\n",
            "        [ 0.1610],\n",
            "        [ 0.1820],\n",
            "        [-0.1393],\n",
            "        [-0.1344],\n",
            "        [-0.1416],\n",
            "        [-0.0145],\n",
            "        [-0.0395],\n",
            "        [-0.1716],\n",
            "        [-0.0938],\n",
            "        [ 0.1632],\n",
            "        [ 0.1394],\n",
            "        [-0.1675],\n",
            "        [-0.0008],\n",
            "        [-0.0014],\n",
            "        [ 0.1957],\n",
            "        [ 0.1478],\n",
            "        [ 0.1308],\n",
            "        [ 0.0634],\n",
            "        [ 0.0968],\n",
            "        [ 0.0539],\n",
            "        [ 0.0202],\n",
            "        [-0.0380],\n",
            "        [-0.0419],\n",
            "        [-0.0322],\n",
            "        [-0.0569],\n",
            "        [ 0.2067],\n",
            "        [ 0.0224],\n",
            "        [-0.1265],\n",
            "        [ 0.0931],\n",
            "        [ 0.0331],\n",
            "        [ 0.0716],\n",
            "        [ 0.1132],\n",
            "        [-0.0795],\n",
            "        [ 0.0381],\n",
            "        [-0.0027],\n",
            "        [ 0.0205],\n",
            "        [-0.0644],\n",
            "        [-0.0194],\n",
            "        [-0.0572],\n",
            "        [-0.0294],\n",
            "        [ 0.1845],\n",
            "        [ 0.0992],\n",
            "        [ 0.0942],\n",
            "        [-0.0995],\n",
            "        [ 0.1822],\n",
            "        [ 0.1865],\n",
            "        [-0.0429],\n",
            "        [-0.0412],\n",
            "        [ 0.1307],\n",
            "        [-0.0280],\n",
            "        [ 0.1193],\n",
            "        [ 0.1537],\n",
            "        [ 0.1193],\n",
            "        [ 0.1135],\n",
            "        [-0.0937],\n",
            "        [ 0.0698],\n",
            "        [-0.0119],\n",
            "        [-0.0100],\n",
            "        [-0.0191],\n",
            "        [ 0.1397],\n",
            "        [-0.0309],\n",
            "        [ 0.0111],\n",
            "        [ 0.1376],\n",
            "        [-0.0383],\n",
            "        [ 0.0981],\n",
            "        [-0.0233],\n",
            "        [ 0.0762]])\n",
            "Name:  lstm.weight_hh_l0\n",
            "shape:  torch.Size([200, 50])\n",
            "Weight:  tensor([[-0.1335, -0.1061, -0.0220,  ...,  0.1221,  0.1145,  0.0078],\n",
            "        [-0.0777,  0.0441,  0.0245,  ..., -0.1002, -0.0211, -0.0393],\n",
            "        [-0.1197,  0.0804,  0.1121,  ...,  0.0452,  0.0089, -0.0318],\n",
            "        ...,\n",
            "        [ 0.0723, -0.0781, -0.0190,  ...,  0.1115, -0.0910,  0.0299],\n",
            "        [-0.1112,  0.1241,  0.0803,  ..., -0.0729,  0.0357, -0.0258],\n",
            "        [-0.0857, -0.0074,  0.0404,  ..., -0.0747, -0.0110, -0.1235]])\n",
            "Name:  lstm.bias_ih_l0\n",
            "shape:  torch.Size([200])\n",
            "Weight:  tensor([ 0.1131, -0.0134, -0.0003,  0.0440,  0.0727,  0.1519,  0.0578,  0.1891,\n",
            "        -0.0178,  0.1747,  0.0545, -0.0300, -0.0191,  0.1288, -0.0484,  0.1311,\n",
            "         0.0512,  0.0064,  0.1474,  0.0772, -0.0837,  0.0244, -0.0008,  0.1344,\n",
            "        -0.1102,  0.0819, -0.1537,  0.0849,  0.0399, -0.0225,  0.0587, -0.0430,\n",
            "         0.0053, -0.0447,  0.1283, -0.0373, -0.0238,  0.0625,  0.1017, -0.1006,\n",
            "         0.1408,  0.0139,  0.1832,  0.0772,  0.2054,  0.2207,  0.1742, -0.0582,\n",
            "         0.0644,  0.1731, -0.1150, -0.0411,  0.1044,  0.0421,  0.0391, -0.0524,\n",
            "        -0.0706,  0.0660, -0.0269,  0.0253, -0.0895, -0.0680, -0.0370, -0.1120,\n",
            "         0.1122, -0.0737,  0.1266,  0.0486,  0.0139, -0.0733, -0.1338, -0.0584,\n",
            "         0.1226, -0.0620, -0.0638,  0.0311, -0.1322, -0.0129,  0.0094, -0.0762,\n",
            "        -0.0051,  0.0110,  0.1329,  0.0187,  0.0202, -0.0818, -0.0110, -0.1107,\n",
            "        -0.0816,  0.1384, -0.0596,  0.1408,  0.1256, -0.0178, -0.1021,  0.1091,\n",
            "        -0.0897, -0.0528,  0.1135, -0.1219, -0.1723, -0.1817,  0.0040,  0.1402,\n",
            "        -0.2066, -0.1264, -0.0225, -0.0644,  0.1360, -0.0629, -0.0037, -0.1510,\n",
            "         0.2065,  0.1931,  0.1545,  0.0924, -0.0332, -0.1462, -0.1814, -0.0881,\n",
            "        -0.0503, -0.0124,  0.0351,  0.0448, -0.0732, -0.1538, -0.0816,  0.1670,\n",
            "         0.0786, -0.1770,  0.1726,  0.1520, -0.0207,  0.0620,  0.0292,  0.0004,\n",
            "        -0.1425, -0.0699, -0.1679, -0.0042,  0.0055,  0.1283,  0.0946,  0.1466,\n",
            "        -0.1690,  0.0254, -0.1233, -0.0586, -0.0588, -0.0479,  0.0688,  0.0032,\n",
            "        -0.0390, -0.0819,  0.1582,  0.0264, -0.1097, -0.0377,  0.0836,  0.0003,\n",
            "         0.1170, -0.0143,  0.0995,  0.0041, -0.0341,  0.1038, -0.1155,  0.0661,\n",
            "         0.0527,  0.0098,  0.0574,  0.1785, -0.0334, -0.0321,  0.0749,  0.0942,\n",
            "        -0.1092,  0.1127,  0.0890,  0.1536,  0.1419, -0.0334,  0.2002,  0.0977,\n",
            "         0.0642,  0.0831,  0.0835,  0.0588,  0.1925,  0.0953, -0.0155, -0.0644,\n",
            "         0.1663,  0.1916,  0.1553, -0.0367,  0.1603,  0.0046,  0.0238, -0.0112])\n",
            "Name:  lstm.bias_hh_l0\n",
            "shape:  torch.Size([200])\n",
            "Weight:  tensor([ 0.0301,  0.0968,  0.0533, -0.0004,  0.0055, -0.0490, -0.0870,  0.1117,\n",
            "         0.0397,  0.1046, -0.0380,  0.0215,  0.0723,  0.0948,  0.0169,  0.0419,\n",
            "        -0.0862,  0.1676, -0.0020,  0.1355,  0.1256, -0.0309,  0.0326,  0.0030,\n",
            "        -0.1304,  0.2132, -0.1063, -0.0677, -0.0448,  0.0084, -0.0296, -0.0553,\n",
            "         0.0435,  0.1949,  0.0100, -0.1103,  0.0864, -0.0938,  0.2090,  0.0315,\n",
            "         0.1416, -0.1565,  0.0526, -0.0116,  0.1982, -0.0329, -0.0690, -0.0366,\n",
            "        -0.0500,  0.1233,  0.0691, -0.0998, -0.0481,  0.0432,  0.0659, -0.0495,\n",
            "        -0.0612,  0.1130, -0.0637, -0.0942,  0.1297,  0.1414, -0.0426,  0.0280,\n",
            "         0.0036, -0.0632, -0.0695, -0.0546,  0.0354,  0.1157,  0.0616, -0.0975,\n",
            "        -0.0185, -0.0459,  0.0473,  0.0992,  0.1373, -0.0490, -0.1012, -0.0837,\n",
            "        -0.0747, -0.1265, -0.0074, -0.1367, -0.0467,  0.0109, -0.0434, -0.0278,\n",
            "        -0.0696, -0.1153,  0.1008,  0.0284, -0.1055, -0.1383,  0.1029, -0.1201,\n",
            "         0.1010,  0.0286,  0.0647,  0.0375, -0.1396, -0.1569, -0.1701, -0.0114,\n",
            "        -0.2009, -0.0757,  0.0491, -0.1503,  0.0355, -0.0777,  0.0716, -0.1858,\n",
            "         0.0200,  0.0316,  0.0200,  0.1390, -0.0180, -0.0307, -0.0709, -0.1203,\n",
            "         0.0978, -0.1809,  0.1882,  0.1479, -0.0427, -0.1267, -0.0604, -0.0369,\n",
            "         0.2050, -0.0059,  0.1873,  0.0506, -0.0754,  0.2135,  0.0866, -0.0264,\n",
            "         0.0732,  0.0847, -0.0734, -0.0099, -0.1638, -0.0820,  0.0953,  0.1478,\n",
            "        -0.0652,  0.1863, -0.1346,  0.2109,  0.0436,  0.1605,  0.0269,  0.1186,\n",
            "         0.1732,  0.1531,  0.0937,  0.1422, -0.1076,  0.0932,  0.1551,  0.0282,\n",
            "        -0.0352,  0.0132,  0.0509,  0.2035,  0.0519,  0.1958, -0.0936,  0.1996,\n",
            "         0.2218,  0.2055, -0.0696,  0.1960,  0.0547,  0.0670, -0.0327,  0.1918,\n",
            "         0.0635,  0.0811,  0.1173,  0.2074,  0.1234,  0.0660,  0.0309, -0.0125,\n",
            "         0.0785, -0.0080, -0.0154, -0.0922,  0.0394, -0.1721,  0.1066, -0.1225,\n",
            "         0.0642,  0.0345, -0.0348,  0.0577, -0.0088,  0.2159,  0.0651, -0.0669])\n",
            "Name:  fc.weight\n",
            "shape:  torch.Size([1, 50])\n",
            "Weight:  tensor([[-0.1333, -0.1700, -0.1355,  0.0641, -0.1351, -0.0875, -0.0091, -0.1327,\n",
            "          0.0833, -0.1044,  0.0284, -0.1655,  0.0696,  0.1039,  0.0454,  0.1973,\n",
            "         -0.0877, -0.1053, -0.0788, -0.1815,  0.1299, -0.2037,  0.2024,  0.1381,\n",
            "          0.0512, -0.0919,  0.0021,  0.0979,  0.1795, -0.1397,  0.1767,  0.2137,\n",
            "         -0.1674,  0.0803,  0.1256, -0.0954, -0.0564, -0.0195, -0.0696, -0.0498,\n",
            "         -0.0451,  0.0212,  0.1502,  0.1135, -0.1833,  0.0937, -0.0529,  0.1077,\n",
            "          0.0500,  0.1474]])\n",
            "Name:  fc.bias\n",
            "shape:  torch.Size([1])\n",
            "Weight:  tensor([-0.0625])\n"
          ]
        }
      ]
    },
    {
      "cell_type": "markdown",
      "source": [
        "| Layer                 | Description                           | Shape           | Weight / Bias Values Explanation                                                                                 |\n",
        "|-----------------------|---------------------------------------|-----------------|---------------------------------------------------------------------------------------------------------------|\n",
        "| `lstm.weight_ih_l0`   | Input to Hidden Layer Weights (Layer 0)  | `[200, 1]`     | Connects input feature to each of the 200 hidden units, determining how input influences initial hidden states. |\n",
        "| `lstm.weight_hh_l0`   | Hidden to Hidden Layer Weights (Layer 0) | `[200, 50]`    | Connects each hidden unit in layer 0 to every other unit in the same layer, capturing temporal dependencies.   |\n",
        "| `lstm.bias_ih_l0`     | Input to Hidden Layer Biases (Layer 0)   | `[200]`        | Bias terms for each hidden unit in layer 0, adjusting activations to improve input transformations.            |\n",
        "| `lstm.bias_hh_l0`     | Hidden to Hidden Layer Biases (Layer 0)  | `[200]`        | Biases applied to hidden states after combining them with hidden-to-hidden transformations in layer 0.        |\n",
        "| `fc.weight`           | Fully Connected Layer Weights           | `[1, 50]`      | Connects 50 hidden units to the single output, combining hidden states into one final prediction.             |\n",
        "| `fc.bias`             | Fully Connected Layer Bias              | `[1]`          | Single bias term that adjusts the output of the fully connected layer.                                         |\n"
      ],
      "metadata": {
        "id": "tQJC3sQ9qSKP"
      }
    },
    {
      "cell_type": "markdown",
      "source": [
        "## **Exercise 1: Implementing an LSTM for Time Series Forecasting**\n",
        "**Objective:**\n",
        "\n",
        "In this exercise, you will build and train a LSTM for time series forecasting."
      ],
      "metadata": {
        "id": "Y5C3q1perNzx"
      }
    },
    {
      "cell_type": "code",
      "source": [
        "# Import necessary libraries\n",
        "import pandas as pd\n",
        "import numpy as np\n",
        "import yfinance as yf\n",
        "import torch\n",
        "import torch.nn as nn\n",
        "import torch.optim as optim\n",
        "from torch.utils.data import TensorDataset, DataLoader\n",
        "from sklearn.preprocessing import MinMaxScaler\n",
        "import matplotlib.pyplot as plt\n",
        "\n",
        "# Step 1: Load and Preprocess Data\n",
        "# Load dataset\n",
        "end_date = pd.Timestamp.today()\n",
        "start_date = end_date - pd.DateOffset(years=5)  # Last 5 years\n",
        "df = yf.download('TSLA', start=start_date, end=end_date)\n",
        "df = df[['Close']]\n",
        "df = df.sort_index()\n",
        "\n",
        "# Step 2: Create Lag and Rolling Features\n",
        "df['lag_5'] = df['Close'].shift(5)\n",
        "df['rolling_mean_10'] = df['Close'].rolling(window=10).mean()\n",
        "df['rolling_sd_10'] = df['Close'].rolling(window=10).std()\n",
        "# df['rolling_diff_10'] = df['Close'] - df['rolling_mean_10']\n",
        "df.dropna(inplace=True)\n",
        "\n",
        "# Step 3: Normalize the Data\n",
        "scaler = MinMaxScaler()\n",
        "data_scaled = scaler.fit_transform(df)"
      ],
      "metadata": {
        "colab": {
          "base_uri": "https://localhost:8080/"
        },
        "id": "587YzfYDrWzg",
        "outputId": "b070d779-f2ad-47bd-da6a-be556ae33ee4"
      },
      "execution_count": null,
      "outputs": [
        {
          "output_type": "stream",
          "name": "stderr",
          "text": [
            "\r[*********************100%***********************]  1 of 1 completed\n"
          ]
        }
      ]
    },
    {
      "cell_type": "code",
      "source": [
        "data_scaled.shape"
      ],
      "metadata": {
        "colab": {
          "base_uri": "https://localhost:8080/"
        },
        "id": "pHguZZoYrfqE",
        "outputId": "44362d2a-98e3-4103-e170-c6dce3b7d4ce"
      },
      "execution_count": null,
      "outputs": [
        {
          "output_type": "execute_result",
          "data": {
            "text/plain": [
              "(1249, 4)"
            ]
          },
          "metadata": {},
          "execution_count": 20
        }
      ]
    },
    {
      "cell_type": "code",
      "source": [
        "# Step 4: Split Data into Training and Testing Sets\n",
        "train_size = int(len(data_scaled) * 0.8)\n",
        "train_data = data_scaled[:train_size]\n",
        "test_data = data_scaled[train_size:]\n",
        "\n",
        "# Further split the training data into training and validation sets\n",
        "train_valid_size = int(len(train_data) * 0.8)\n",
        "train_data_final = train_data[:train_valid_size]\n",
        "valid_data = train_data[train_valid_size:]\n",
        "\n",
        "# Step 5: Prepare Data for LSTM Input\n",
        "def create_sequences_multivariate(data, n_timesteps, target_column_index):\n",
        "    X = []\n",
        "    y = []\n",
        "    for i in range(len(data) - n_timesteps):\n",
        "        seq_x = data[i:i + n_timesteps]\n",
        "        seq_y = data[i + n_timesteps, target_column_index]\n",
        "        X.append(seq_x)\n",
        "        y.append(seq_y)\n",
        "    return np.array(X), np.array(y)\n",
        "\n",
        "n_timesteps = 7\n",
        "n_features = data_scaled.shape[1]\n",
        "target_column_index = 0  # 'Close' is the target column\n",
        "\n",
        "# Create sequences for training, validation, and testing\n",
        "X_train, y_train = create_sequences_multivariate(train_data_final, n_timesteps, target_column_index)\n",
        "X_valid, y_valid = create_sequences_multivariate(valid_data, n_timesteps, target_column_index)\n",
        "X_test, y_test = create_sequences_multivariate(test_data, n_timesteps, target_column_index)\n",
        "\n",
        "# Convert to tensors\n",
        "X_train = torch.tensor(X_train, dtype=torch.float32)\n",
        "y_train = torch.tensor(y_train, dtype=torch.float32)\n",
        "\n",
        "X_valid = torch.tensor(X_valid, dtype=torch.float32)\n",
        "y_valid = torch.tensor(y_valid, dtype=torch.float32)\n",
        "\n",
        "X_test = torch.tensor(X_test, dtype=torch.float32)\n",
        "y_test = torch.tensor(y_test, dtype=torch.float32)\n",
        "\n",
        "# Create DataLoaders\n",
        "train_dataset = TensorDataset(X_train, y_train)\n",
        "valid_dataset = TensorDataset(X_valid, y_valid)\n",
        "test_dataset = TensorDataset(X_test, y_test)\n",
        "\n",
        "train_loader = DataLoader(train_dataset, batch_size=32, shuffle=False)\n",
        "valid_loader = DataLoader(valid_dataset, batch_size=32, shuffle=False)\n",
        "test_loader = DataLoader(test_dataset, batch_size=32, shuffle=False)\n",
        "\n",
        "# Step 6: Build the LSTM Model\n",
        "# 1. Creating a FeedForwardNetwork\n",
        "# 1.1 Structure (Architecture) of NN\n",
        "class LSTMModel(nn.Module):\n",
        "    def __init__(self, input_size, hidden_size=50, num_layers=2, output_size=1, dropout=0.2):\n",
        "        super(LSTMModel, self).__init__()\n",
        "        self.hidden_size = hidden_size\n",
        "        self.num_layers = num_layers\n",
        "\n",
        "        self.lstm = nn.LSTM(input_size, hidden_size, num_layers,\n",
        "                            batch_first=True, dropout=dropout)\n",
        "        self.fc = nn.Linear(hidden_size, output_size)\n",
        "\n",
        "    def forward(self, x):\n",
        "        h0 = torch.zeros(self.num_layers, x.size(0), self.hidden_size).to(x.device)\n",
        "        c0 = torch.zeros(self.num_layers, x.size(0), self.hidden_size).to(x.device)\n",
        "\n",
        "        out, (hn, cn) = self.lstm(x, (h0, c0))\n",
        "        out = out[:, -1, :]  # Last time step\n",
        "        out = self.fc(out)\n",
        "        return out\n",
        "\n",
        "\n",
        "# Instantiate the LSTM model\n",
        "model = LSTMModel(input_size=n_features, hidden_size=50, num_layers=1, output_size=1, dropout=0.2)\n",
        "\n",
        "# Define loss function and optimizer\n",
        "# 1.2 Loss Function\n",
        "criterion = nn.MSELoss()\n",
        "\n",
        "# 1.3 Optmization Approch\n",
        "optimizer = optim.Adam(model.parameters(), lr=0.001)\n",
        "\n",
        "# Step 7: Train the Model\n",
        "device = torch.device('cuda' if torch.cuda.is_available() else 'cpu')\n",
        "model.to(device)\n",
        "\n",
        "num_epochs = 50\n",
        "train_losses = []\n",
        "valid_losses = []\n",
        "\n",
        "for epoch in range(num_epochs):\n",
        "    model.train()\n",
        "    train_loss = 0\n",
        "    for inputs, targets in train_loader:\n",
        "        inputs = inputs.to(device)\n",
        "        targets = targets.to(device)\n",
        "\n",
        "        optimizer.zero_grad()\n",
        "        # 2. Forward Pass\n",
        "        outputs = model(inputs)\n",
        "        # 3. FeedForward Evaluation\n",
        "        loss = criterion(outputs.squeeze(), targets)\n",
        "        # 4. Backward Pass / Gradient Calculation\n",
        "        loss.backward()\n",
        "        # 5. Back Propagation / Update Weights\n",
        "        optimizer.step()\n",
        "\n",
        "        train_loss += loss.item() * inputs.size(0)\n",
        "\n",
        "    train_loss /= len(train_loader.dataset)\n",
        "    train_losses.append(train_loss)\n",
        "\n",
        "    # Validation\n",
        "    model.eval()\n",
        "    valid_loss = 0\n",
        "    with torch.no_grad():\n",
        "        for inputs, targets in valid_loader:\n",
        "            inputs = inputs.to(device)\n",
        "            targets = targets.to(device)\n",
        "            outputs = model(inputs)\n",
        "            loss = criterion(outputs.squeeze(), targets)\n",
        "            valid_loss += loss.item() * inputs.size(0)\n",
        "    valid_loss /= len(valid_loader.dataset)\n",
        "    valid_losses.append(valid_loss)\n",
        "\n",
        "    if (epoch + 1) % 20 == 0:\n",
        "        print(f'Epoch {epoch + 1}/{num_epochs}, Train Loss: {train_loss:.6f}, Valid Loss: {valid_loss:.6f}')\n",
        "\n",
        "# Step 8: Evaluate the Model\n",
        "model.eval()\n",
        "with torch.no_grad(): # this way prevents PyTorch from storing unnecessary information for backpropagation, making inference faster and more memory-efficient.\n",
        "    test_preds = model(X_test.to(device)).cpu().numpy()\n",
        "    test_actuals = y_test.numpy()\n",
        "\n",
        "# Step 9: Denormalize and Visualize Predictions\n",
        "def denormalize(scaled_data, scaler, index):\n",
        "    data = np.zeros((len(scaled_data), scaler.n_features_in_))\n",
        "    data[:, index] = scaled_data[:, 0]\n",
        "    data = scaler.inverse_transform(data)\n",
        "    return data[:, index]\n",
        "\n",
        "test_preds_denorm = denormalize(test_preds, scaler, target_column_index)\n",
        "test_actuals_denorm = denormalize(test_actuals.reshape(-1, 1), scaler, target_column_index)\n",
        "\n",
        "plt.figure(figsize=(12, 6))\n",
        "plt.plot(test_actuals_denorm, label='Actual')\n",
        "plt.plot(test_preds_denorm, label='Predicted')\n",
        "plt.title('LSTM Predictions vs Actuals on Test Set')\n",
        "plt.xlabel('Index')\n",
        "plt.ylabel('TSLA Close Price')\n",
        "plt.legend()\n",
        "plt.show()\n",
        "\n",
        "# Step 10: Save and Load the Model\n",
        "torch.save(model.state_dict(), 'tsla_lstm_model.pth')\n",
        "\n",
        "loaded_model = LSTMModel(input_size=n_features, hidden_size=50, num_layers=1, output_size=1)\n",
        "loaded_model.load_state_dict(torch.load('tsla_lstm_model.pth'))\n",
        "loaded_model.to(device)\n",
        "loaded_model.eval()"
      ],
      "metadata": {
        "colab": {
          "base_uri": "https://localhost:8080/",
          "height": 827
        },
        "id": "V8ZVK2h3rXbz",
        "outputId": "865185fe-36a7-4d90-d56a-93c66e2c3d12"
      },
      "execution_count": null,
      "outputs": [
        {
          "output_type": "stream",
          "name": "stderr",
          "text": [
            "/usr/local/lib/python3.10/dist-packages/torch/nn/modules/rnn.py:123: UserWarning: dropout option adds dropout after all but last recurrent layer, so non-zero dropout expects num_layers greater than 1, but got dropout=0.2 and num_layers=1\n",
            "  warnings.warn(\n",
            "/usr/local/lib/python3.10/dist-packages/torch/nn/modules/loss.py:608: UserWarning: Using a target size (torch.Size([1])) that is different to the input size (torch.Size([])). This will likely lead to incorrect results due to broadcasting. Please ensure they have the same size.\n",
            "  return F.mse_loss(input, target, reduction=self.reduction)\n"
          ]
        },
        {
          "output_type": "stream",
          "name": "stdout",
          "text": [
            "Epoch 20/50, Train Loss: 0.003935, Valid Loss: 0.001942\n",
            "Epoch 40/50, Train Loss: 0.003230, Valid Loss: 0.001738\n"
          ]
        },
        {
          "output_type": "display_data",
          "data": {
            "text/plain": [
              "<Figure size 1200x600 with 1 Axes>"
            ],
            "image/png": "[encoded data removed]"
          },
          "metadata": {}
        },
        {
          "output_type": "stream",
          "name": "stderr",
          "text": [
            "/usr/local/lib/python3.10/dist-packages/torch/nn/modules/rnn.py:123: UserWarning: dropout option adds dropout after all but last recurrent layer, so non-zero dropout expects num_layers greater than 1, but got dropout=0.2 and num_layers=1\n",
            "  warnings.warn(\n",
            "<ipython-input-2-4a72477a34ae>:158: FutureWarning: You are using `torch.load` with `weights_only=False` (the current default value), which uses the default pickle module implicitly. It is possible to construct malicious pickle data which will execute arbitrary code during unpickling (See https://github.com/pytorch/pytorch/blob/main/SECURITY.md#untrusted-models for more details). In a future release, the default value for `weights_only` will be flipped to `True`. This limits the functions that could be executed during unpickling. Arbitrary objects will no longer be allowed to be loaded via this mode unless they are explicitly allowlisted by the user via `torch.serialization.add_safe_globals`. We recommend you start setting `weights_only=True` for any use case where you don't have full control of the loaded file. Please open an issue on GitHub for any issues related to this experimental feature.\n",
            "  loaded_model.load_state_dict(torch.load('tsla_lstm_model.pth'))\n"
          ]
        },
        {
          "output_type": "execute_result",
          "data": {
            "text/plain": [
              "LSTMModel(\n",
              "  (lstm): LSTM(4, 50, batch_first=True, dropout=0.2)\n",
              "  (fc): Linear(in_features=50, out_features=1, bias=True)\n",
              ")"
            ]
          },
          "metadata": {},
          "execution_count": 2
        }
      ]
    },
    {
      "cell_type": "code",
      "source": [],
      "metadata": {
        "id": "rYQVxNy9thWP"
      },
      "execution_count": null,
      "outputs": []
    }
  ]
}